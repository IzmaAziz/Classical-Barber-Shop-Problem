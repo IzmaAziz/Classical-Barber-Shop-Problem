{
 "cells": [
  {
   "cell_type": "markdown",
   "id": "74f14cdb",
   "metadata": {},
   "source": [
    "## IMPORT PACKAGES"
   ]
  },
  {
   "cell_type": "code",
   "execution_count": 1,
   "id": "29057571",
   "metadata": {},
   "outputs": [],
   "source": [
    "import threading\n",
    "from time import sleep as sp\n",
    "import random"
   ]
  },
  {
   "cell_type": "markdown",
   "id": "c6b83c8d",
   "metadata": {},
   "source": [
    "## INITIALIZATION"
   ]
  },
  {
   "cell_type": "code",
   "execution_count": 2,
   "id": "e17089ef",
   "metadata": {},
   "outputs": [],
   "source": [
    "custReady = threading.Semaphore(0)   #for synchronization\n",
    "barberReady= threading.Semaphore(0)  #for synchronization\n",
    "access_chair= threading.Semaphore(1) # for mutual exclusion, as one customer should access one chair at a time \n",
    "global chairs\n",
    "\n",
    "sleep=0                     # for barber is awake, sleep = 1 means barber is sleeping\n",
    "total=0                     # total no. of customer including one which getting hair cut\n",
    "waiting_list=[]             # name of waiting cusomer sitting on waiting chair\n",
    "cust_getting_hair_cut=\"\"    # name of customer currently getting hair cut\n",
    "cust_threads=[]             #for name of all customers"
   ]
  },
  {
   "cell_type": "markdown",
   "id": "dbb7491d",
   "metadata": {},
   "source": [
    "## FUNCTIONS CALLED IN BARBER AND CUSTOMER"
   ]
  },
  {
   "cell_type": "code",
   "execution_count": 3,
   "id": "7be56e53",
   "metadata": {},
   "outputs": [],
   "source": [
    "def get_hair_cut(name): # called for hair cut\n",
    "    print(f\"Customer {name} has called getHairCut()\\n\")\n",
    "    return\n",
    "def cut_hair():  # cutting of hair\n",
    "    print(f\"Barber has called cutHair()\\nBarber: Cutting hair of {cust_getting_hair_cut}\\n\")\n",
    "    return\n",
    "def balk(name):  # leave the shop\n",
    "    print(f\"Customer: {name} is trying to enter waiting room\\nCustomer : shop full, balk() called for {name}\\n\")\n"
   ]
  },
  {
   "cell_type": "markdown",
   "id": "26b46e36",
   "metadata": {},
   "source": [
    "## CUSTOMER AND BARBER"
   ]
  },
  {
   "cell_type": "code",
   "execution_count": 4,
   "id": "e4525ddb",
   "metadata": {},
   "outputs": [],
   "source": [
    "def barber():\n",
    "    global total, chairs, sleep , waiting_list, cust_getting_hair_cut\n",
    "    while True:\n",
    "        if (len(waiting_list)==0 and total==0): #if no customer in the shop barber goes to sleep\n",
    "            print(\"\\nThere are no customers in the barber shop\\n\\n\\t\\t Barber: No customers in the shop! , I am going to sleep  zzz....\\n\")\n",
    "            sleep=1\n",
    "        custReady.acquire() # semwait (waiting for customer)\n",
    "        \n",
    "        if (len(waiting_list)>0): # if there is someone on waiting chair\n",
    "            print(\"Waiting customers are mentioned below :\\n\",end='')\n",
    "            for i in waiting_list:\n",
    "                print(i)\n",
    "            print()        \n",
    "        access_chair.acquire()# semwait (mutual exclusion)\n",
    "        \n",
    "        if(len(waiting_list)>0):  # if customer waiting \n",
    "            chairs+=1\n",
    "        access_chair.release()    # semsignal (mutual exclusion)\n",
    "        barberReady.release()  # semsignal (barber can start working)\n",
    "        \n",
    "        sp(2)      # wait for 2 sec\n",
    "        cut_hair() # barber cut hair\n",
    "        sp(4)      # wait for 4 sec\n",
    "        print(f\"Barber: Done with hair cutting of {cust_getting_hair_cut}\\n\")\n",
    "        if(len(waiting_list)>0 and  cust_getting_hair_cut in waiting_list):\n",
    "            waiting_list.remove(cust_getting_hair_cut)  # remove customer from waiting list who are done with hair cut\n",
    "        cust_getting_hair_cut = \"\"  \n",
    "        total -=1   # customer after done with haircut leaves the shop\n",
    "\n",
    "def customer(name):\n",
    "    global total,chairs, sleep , waiting_list, cust_getting_hair_cut , chairs\n",
    "    \n",
    "    access_chair.acquire() # semwait (mutual exclusion)\n",
    "    if (chairs>0 or total==0):\n",
    "        total+=1\n",
    "        if (chairs> 0 or (total==0 and chairs!=0)): # if chairs available or no customer in shop\n",
    "            chairs-=1\n",
    "            waiting_list.append(name)\n",
    "            if (total==0):\n",
    "                print(f\"Customer: {name} has entered in barber shop \\n\")\n",
    "            else:\n",
    "                print(f\"Customer: {name} has entered waiting room.\\n\\nNow total chairs available in waiting room are : \", chairs,\"\\n\")\n",
    "        elif (total ==0 and chairs==0): # if there is no waiting chair\n",
    "            print(f\"Customer: {name} has entered in barber shop \\n\")\n",
    "        access_chair.release()      # semsignal (mutual exclusion)\n",
    "        custReady.release()  # semsignal (customers are present in the barber shop)\n",
    "        barberReady.acquire()    # semwait (waiting for barber)\n",
    "        if (sleep==1): # barber is sleeping\n",
    "            print(f\"Customer : {name} is waking up the barber \\n\")\n",
    "            #print(f\"Now the waiting room chairs are:{chairs}\\n\")\n",
    "            sleep=0 #customer wakes up the barber\n",
    "        cust_getting_hair_cut=name\n",
    "        get_hair_cut(name)\n",
    "        if chairs != 0:\n",
    "            print(f\"Now the waiting room chairs are {chairs}\\n\")\n",
    "            \n",
    "    else:           # no chair available means the shop is full\n",
    "        access_chair.release() # semsignal (mutual exclusion)\n",
    "        balk(name)   #customer leaves the shop\n",
    "\n",
    "\n"
   ]
  },
  {
   "cell_type": "markdown",
   "id": "fb514ff1",
   "metadata": {},
   "source": [
    "## MAIN INTERFACE"
   ]
  },
  {
   "cell_type": "code",
   "execution_count": 5,
   "id": "812d8c44",
   "metadata": {},
   "outputs": [
    {
     "name": "stdout",
     "output_type": "stream",
     "text": [
      "\t\t=======WELCOME TO BARBER SHOP==========\n",
      "\n",
      "\n",
      "There are no customers in the barber shop\n",
      "\n",
      "\t\t Barber: No customers in the shop! , I am going to sleep  zzz....\n",
      "\n",
      "Do you want to continue? Y\n",
      "\n",
      "The barber room contains only one barber chair.\n",
      "\n",
      "How many waiting chairs do you want in the barber shop ? 2\n",
      "How many customers do you want in your scenerio ? 2\n",
      "Enter Customer 1 Name: Bisma\n",
      "Enter Customer 2 Name: Ayesha\n",
      "\n",
      "Customer: Bisma has entered waiting room.\n",
      "\n",
      "Now total chairs available in waiting room are :  1 \n",
      "\n",
      "Waiting customers are mentioned below :\n",
      "Bisma\n",
      "\n",
      "Customer : Bisma is waking up the barber \n",
      "\n",
      "Customer Bisma has called getHairCut()\n",
      "\n",
      "Now the waiting room chairs are 2\n",
      "\n",
      "Customer: Ayesha has entered waiting room.\n",
      "\n",
      "Now total chairs available in waiting room are :  1 \n",
      "\n",
      "Barber has called cutHair()\n",
      "Barber: Cutting hair of Bisma\n",
      "\n",
      "Barber: Done with hair cutting of Bisma\n",
      "\n",
      "Waiting customers are mentioned below :\n",
      "Ayesha\n",
      "\n",
      "Customer Ayesha has called getHairCut()\n",
      "\n",
      "Now the waiting room chairs are 2\n",
      "\n",
      "Barber has called cutHair()\n",
      "Barber: Cutting hair of Ayesha\n",
      "\n",
      "Barber: Done with hair cutting of Ayesha\n",
      "\n",
      "\n",
      "There are no customers in the barber shop\n",
      "\n",
      "\t\t Barber: No customers in the shop! , I am going to sleep  zzz....\n",
      "\n",
      "Do you want to continue? n\n"
     ]
    }
   ],
   "source": [
    "print(\"\\t\\t=======WELCOME TO BARBER SHOP==========\\n\")\n",
    "\n",
    "barber_thread= threading.Thread(name=\"Barber\" , target=barber) # making barber thread\n",
    "barber_thread.start()\n",
    "\n",
    "while True:\n",
    "    if (len(cust_threads)):\n",
    "        for t in cust_threads:     # Wait for all of cust_threads to finish\n",
    "            t.join() \n",
    "    \n",
    "    if (len(waiting_list)==0):\n",
    "        custs=[]\n",
    "        sp(1)\n",
    "        exit=input(\"Do you want to continue? \")\n",
    "        if (exit!='y' and exit!='Y'):\n",
    "            break\n",
    "        print('\\nThe barber room contains only one barber chair.\\n')\n",
    "        chairs= int(input(\"How many waiting chairs do you want in the barber shop ? \"))        \n",
    "        cust_no= int(input(\"How many customers do you want in your scenerio ? \"))\n",
    "        if (cust_no==0):   # if there is no customer in the shop, no one will wake the barber up\n",
    "            print(\"\\nThere are no customers in the barber shop\\n\\n\\t\\t Barber: No customers in the shop! , I am going to sleep  zzz....\\n\")        \n",
    "        for i in range (cust_no):\n",
    "          while True:\n",
    "            cust_name=input(\"Enter Customer \"+str(i+1)+\" Name: \")\n",
    "            if (cust_name.isdigit() or cust_name in ['','*','@','%','$','^','!','#','&','/']):  #checking if the name is entered properly\n",
    "                print('Enter proper name!')\n",
    "            else:\n",
    "                custs.append(cust_name.capitalize())\n",
    "                break\n",
    "        print('')\n",
    "        for index,cust in enumerate(custs[:cust_no]):\n",
    "            sp(1)\n",
    "            customer_thread=threading.Thread(name=\"Customer\", target=customer, args=[f'{cust}']) # making customers threads\n",
    "            customer_thread.start()\n",
    "            cust_threads.append(customer_thread)"
   ]
  }
 ],
 "metadata": {
  "kernelspec": {
   "display_name": "Python 3 (ipykernel)",
   "language": "python",
   "name": "python3"
  },
  "language_info": {
   "codemirror_mode": {
    "name": "ipython",
    "version": 3
   },
   "file_extension": ".py",
   "mimetype": "text/x-python",
   "name": "python",
   "nbconvert_exporter": "python",
   "pygments_lexer": "ipython3",
   "version": "3.9.12"
  }
 },
 "nbformat": 4,
 "nbformat_minor": 5
}
